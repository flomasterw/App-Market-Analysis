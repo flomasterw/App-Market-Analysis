{
 "cells": [
  {
   "cell_type": "code",
   "execution_count": 1,
   "metadata": {},
   "outputs": [],
   "source": [
    "import pandas as pd\n",
    "import numpy as np\n",
    "import warnings\n",
    "import re\n",
    "\n",
    "import requests\n",
    "import play_scraper\n",
    "import time\n",
    "\n",
    "from uszipcode import SearchEngine\n",
    "\n",
    "import nltk\n",
    "from nltk.sentiment.vader import SentimentIntensityAnalyzer \n",
    "import statsmodels.formula.api as sm\n",
    "\n",
    "#nltk.downloader.download('vader_lexicon')\n",
    "sid = SentimentIntensityAnalyzer()\n",
    "warnings.filterwarnings(\"ignore\")"
   ]
  },
  {
   "cell_type": "markdown",
   "metadata": {
    "slideshow": {
     "slide_type": "slide"
    }
   },
   "source": [
    "Note: Some cells have been pre-run in other notebooks"
   ]
  },
  {
   "cell_type": "markdown",
   "metadata": {},
   "source": [
    "## Data Extraction and Munging"
   ]
  },
  {
   "cell_type": "markdown",
   "metadata": {
    "slideshow": {
     "slide_type": "slide"
    }
   },
   "source": [
    "### Apple Store Data"
   ]
  },
  {
   "cell_type": "markdown",
   "metadata": {
    "slideshow": {
     "slide_type": "slide"
    }
   },
   "source": [
    "####  Apple Data Cleaning\n",
    "We first download apple dataset from a [kaggles dataset](https://www.kaggle.com/ramamet4/app-store-apple-data-set-10k-apps). \n",
    "- data_apple: Apple datasets from Kaggles"
   ]
  },
  {
   "cell_type": "code",
   "execution_count": 2,
   "metadata": {},
   "outputs": [
    {
     "data": {
      "text/html": [
       "<div>\n",
       "<style scoped>\n",
       "    .dataframe tbody tr th:only-of-type {\n",
       "        vertical-align: middle;\n",
       "    }\n",
       "\n",
       "    .dataframe tbody tr th {\n",
       "        vertical-align: top;\n",
       "    }\n",
       "\n",
       "    .dataframe thead th {\n",
       "        text-align: right;\n",
       "    }\n",
       "</style>\n",
       "<table border=\"1\" class=\"dataframe\">\n",
       "  <thead>\n",
       "    <tr style=\"text-align: right;\">\n",
       "      <th></th>\n",
       "      <th>id</th>\n",
       "      <th>Name</th>\n",
       "      <th>Size</th>\n",
       "      <th>Price</th>\n",
       "      <th>rating_count_tot</th>\n",
       "      <th>rating_count_ver</th>\n",
       "      <th>Rating</th>\n",
       "      <th>user_rating_ver</th>\n",
       "      <th>Version</th>\n",
       "      <th>Content_Rating</th>\n",
       "      <th>Category</th>\n",
       "      <th>sup_devices.num</th>\n",
       "      <th>ipadSc_urls.num</th>\n",
       "      <th>lang.num</th>\n",
       "      <th>Source</th>\n",
       "      <th>Type</th>\n",
       "      <th>app_desc</th>\n",
       "    </tr>\n",
       "  </thead>\n",
       "  <tbody>\n",
       "    <tr>\n",
       "      <td>0</td>\n",
       "      <td>281656475</td>\n",
       "      <td>PAC-MAN Premium</td>\n",
       "      <td>96.119141</td>\n",
       "      <td>3.99</td>\n",
       "      <td>21292</td>\n",
       "      <td>26</td>\n",
       "      <td>4.0</td>\n",
       "      <td>4.5</td>\n",
       "      <td>6.3.5</td>\n",
       "      <td>4+</td>\n",
       "      <td>Games</td>\n",
       "      <td>38</td>\n",
       "      <td>5</td>\n",
       "      <td>10</td>\n",
       "      <td>Apple</td>\n",
       "      <td>Paid</td>\n",
       "      <td>SAVE 20%, now only $3.99 for a limited time!\\n...</td>\n",
       "    </tr>\n",
       "    <tr>\n",
       "      <td>1</td>\n",
       "      <td>281796108</td>\n",
       "      <td>Evernote - stay organized</td>\n",
       "      <td>151.232422</td>\n",
       "      <td>0.00</td>\n",
       "      <td>161065</td>\n",
       "      <td>26</td>\n",
       "      <td>4.0</td>\n",
       "      <td>3.5</td>\n",
       "      <td>8.2.2</td>\n",
       "      <td>4+</td>\n",
       "      <td>Productivity</td>\n",
       "      <td>37</td>\n",
       "      <td>5</td>\n",
       "      <td>23</td>\n",
       "      <td>Apple</td>\n",
       "      <td>Free</td>\n",
       "      <td>Let Evernote change the way you organize your ...</td>\n",
       "    </tr>\n",
       "  </tbody>\n",
       "</table>\n",
       "</div>"
      ],
      "text/plain": [
       "          id                       Name        Size  Price  rating_count_tot  \\\n",
       "0  281656475            PAC-MAN Premium   96.119141   3.99             21292   \n",
       "1  281796108  Evernote - stay organized  151.232422   0.00            161065   \n",
       "\n",
       "   rating_count_ver  Rating  user_rating_ver Version Content_Rating  \\\n",
       "0                26     4.0              4.5   6.3.5             4+   \n",
       "1                26     4.0              3.5   8.2.2             4+   \n",
       "\n",
       "       Category  sup_devices.num  ipadSc_urls.num  lang.num Source  Type  \\\n",
       "0         Games               38                5        10  Apple  Paid   \n",
       "1  Productivity               37                5        23  Apple  Free   \n",
       "\n",
       "                                            app_desc  \n",
       "0  SAVE 20%, now only $3.99 for a limited time!\\n...  \n",
       "1  Let Evernote change the way you organize your ...  "
      ]
     },
     "execution_count": 2,
     "metadata": {},
     "output_type": "execute_result"
    }
   ],
   "source": [
    "#1. Data Extraction and Munging\n",
    "#1.1 Apple Store Data\n",
    "#1.1.1 Apple Data Cleaning\n",
    "\n",
    "#read the data, and description of apps\n",
    "data_apple = pd.read_csv('../data/AppleStore.csv')\n",
    "des_apple = pd.read_csv('../data/appleStore_description.csv') \n",
    "\n",
    "#drop unrelated columns, rename column name , fill 'Source' and 'Type', add description to each app\n",
    "data_apple.drop(['Unnamed: 0', 'currency','vpp_lic'], axis=1, inplace=True)\n",
    "data_apple.columns.values[[1,2,3,6,8,9,10]] = ['Name','Size','Price','Rating','Version','Content_Rating','Category']\n",
    "data_apple['Size'] = data_apple['Size']/(1024*1024)\n",
    "data_apple['Source'] = \"Apple\"\n",
    "data_apple['Type'] = data_apple['Price'].apply(lambda x: 'Paid' if x > 0 else 'Free')\n",
    "data_apple = pd.merge(data_apple, des_apple[['id','app_desc']], on='id')\n",
    "data_apple['id'] = data_apple['id'].astype('str')\n",
    "data_apple.head(2)"
   ]
  },
  {
   "cell_type": "markdown",
   "metadata": {
    "slideshow": {
     "slide_type": "slide"
    }
   },
   "source": [
    "#### Apple Data Scrapping\n",
    "We are also intrested what people would say in thier App reviews. We expected to get some useful positive and negative feedback. From the user feedbacks, developers can evaluate thier App and understand what they should keep, avoid and make change or improvement. \n",
    "\n",
    "Since Apple only release top 50 reviews by review categories, for each App, we scraped 50 most helpful reviews which defined by iTunes. Note that some App does not have any review.\n",
    "- apple_review: Scraped review of app in Apple from the iTunes RSS Genearator API."
   ]
  },
  {
   "cell_type": "code",
   "execution_count": null,
   "metadata": {},
   "outputs": [],
   "source": [
    "#1.1.2 Apple Data Cleaning\n",
    "#App scraping function\n",
    "def apple_review(js):\n",
    "    \"\"\"\n",
    "    Scrape the reviews from iTunes' review api and append to given lists\n",
    "    -----\n",
    "    Argument:\n",
    "        js: Get Json file\n",
    "        url: Url of the link.\n",
    "    \"\"\"\n",
    "    try:\n",
    "        var = js['feed']['entry']\n",
    "        for i in range(len(var)):\n",
    "            appid.append(re.search('id=(.+)/s', url).group(1))\n",
    "            title.append(var[i]['title']['label'])\n",
    "            rating.append(var[i]['im:rating']['label'])\n",
    "            review.append(var[i]['content']['label'])\n",
    "    except KeyError:\n",
    "        return None"
   ]
  },
  {
   "cell_type": "code",
   "execution_count": null,
   "metadata": {},
   "outputs": [],
   "source": [
    "#create new lists for storing data\n",
    "appid = []\n",
    "title = []\n",
    "rating = []\n",
    "review = []\n",
    "#scarpping review data\n",
    "for i in data_apple.id[0:7197]:\n",
    "    url = 'https://itunes.apple.com/rss/customerreviews/id={}/sortBy=mostHelpful/json'.format(i)\n",
    "    req = requests.get(url)\n",
    "    js = req.json()\n",
    "    apple_review(js)"
   ]
  },
  {
   "cell_type": "code",
   "execution_count": null,
   "metadata": {},
   "outputs": [],
   "source": [
    "#save the file to local\n",
    "cols = ['appid','title','rating','review']\n",
    "df = pd.DataFrame(list(zip(appid,title,rating,review)), columns = cols)\n",
    "#converting dataframe into csv\n",
    "df.to_csv('../data/apple_review.csv',encoding='utf_8_sig')"
   ]
  },
  {
   "cell_type": "code",
   "execution_count": null,
   "metadata": {},
   "outputs": [],
   "source": [
    "#reload the itunes review from prior saved data\n",
    "review_apple = pd.read_csv('../data/apple_review.csv',low_memory=False)\n",
    "review_apple = review_apple.drop('Unnamed: 0', 1)\n",
    "review_apple.head(2)"
   ]
  },
  {
   "cell_type": "markdown",
   "metadata": {
    "slideshow": {
     "slide_type": "slide"
    }
   },
   "source": [
    "#### Apple Data of User Review\n",
    "We tried the sentitment analysis for user review using existing pacakge in order to predict the rating in the further step. We are also curious about the relationship between word length and user rating. The dataset for Apple review has the features of sentiment analysis for both title and review, and the word length for each title and review."
   ]
  },
  {
   "cell_type": "code",
   "execution_count": 3,
   "metadata": {},
   "outputs": [],
   "source": [
    "#1.1.3 Apple Data Sentiment Analysis\n",
    "#original data of apple review\n",
    "review_apple = pd.read_csv('../data/apple_review.csv')\n",
    "# drop NA\n",
    "review_apple.dropna(subset=['title'], inplace=True)\n",
    "review_apple = review_apple.reset_index(drop = True)\n",
    "# create two new columns \n",
    "review_apple['Title Compound'] = 0\n",
    "review_apple['Review Compound'] = 0"
   ]
  },
  {
   "cell_type": "code",
   "execution_count": null,
   "metadata": {},
   "outputs": [],
   "source": [
    "#do sentiment analysis, and saved it to a new csv file apple_review2\n",
    "#nltk.downloader.download('vader_lexicon')\n",
    "sid = SentimentIntensityAnalyzer()\n",
    "for i in range(apple_review.shape[0]):\n",
    "    apple_review['Title Compound'].iloc[i] = sid.polarity_scores(apple_review['title'][i])['compound']\n",
    "    apple_review['Review Compound'].iloc[i] = sid.polarity_scores(apple_review['review'][i])['compound']\n",
    "review_apple.to_csv('apple_review2.csv')"
   ]
  },
  {
   "cell_type": "markdown",
   "metadata": {},
   "source": [
    "- apple_review2: add sentiment analysis, title length, and review length based on review_apple"
   ]
  },
  {
   "cell_type": "code",
   "execution_count": 4,
   "metadata": {},
   "outputs": [
    {
     "data": {
      "text/html": [
       "<div>\n",
       "<style scoped>\n",
       "    .dataframe tbody tr th:only-of-type {\n",
       "        vertical-align: middle;\n",
       "    }\n",
       "\n",
       "    .dataframe tbody tr th {\n",
       "        vertical-align: top;\n",
       "    }\n",
       "\n",
       "    .dataframe thead th {\n",
       "        text-align: right;\n",
       "    }\n",
       "</style>\n",
       "<table border=\"1\" class=\"dataframe\">\n",
       "  <thead>\n",
       "    <tr style=\"text-align: right;\">\n",
       "      <th></th>\n",
       "      <th>appid</th>\n",
       "      <th>title</th>\n",
       "      <th>rating</th>\n",
       "      <th>review</th>\n",
       "      <th>title_comp</th>\n",
       "      <th>review_comp</th>\n",
       "      <th>title length</th>\n",
       "      <th>review length</th>\n",
       "    </tr>\n",
       "  </thead>\n",
       "  <tbody>\n",
       "    <tr>\n",
       "      <td>0</td>\n",
       "      <td>281796108.0</td>\n",
       "      <td>Come back in - the water is fine</td>\n",
       "      <td>5.0</td>\n",
       "      <td>Having been a long time and premium user of Ev...</td>\n",
       "      <td>0.2023</td>\n",
       "      <td>0.7690</td>\n",
       "      <td>8</td>\n",
       "      <td>248</td>\n",
       "    </tr>\n",
       "    <tr>\n",
       "      <td>1</td>\n",
       "      <td>281796108.0</td>\n",
       "      <td>Customer Service</td>\n",
       "      <td>1.0</td>\n",
       "      <td>If you are looking for a company that has acce...</td>\n",
       "      <td>0.0000</td>\n",
       "      <td>0.9892</td>\n",
       "      <td>2</td>\n",
       "      <td>247</td>\n",
       "    </tr>\n",
       "  </tbody>\n",
       "</table>\n",
       "</div>"
      ],
      "text/plain": [
       "         appid                             title  rating  \\\n",
       "0  281796108.0  Come back in - the water is fine     5.0   \n",
       "1  281796108.0                  Customer Service     1.0   \n",
       "\n",
       "                                              review  title_comp  review_comp  \\\n",
       "0  Having been a long time and premium user of Ev...      0.2023       0.7690   \n",
       "1  If you are looking for a company that has acce...      0.0000       0.9892   \n",
       "\n",
       "   title length  review length  \n",
       "0             8            248  \n",
       "1             2            247  "
      ]
     },
     "execution_count": 4,
     "metadata": {},
     "output_type": "execute_result"
    }
   ],
   "source": [
    "#get apple_review2 with sentiment analysis\n",
    "apple_review2 = pd.read_csv('../data/apple_review2.csv')\n",
    "apple_review2 = apple_review2.drop('Unnamed: 0', 1)\n",
    "apple_review2.rename(columns={'Title Compound': 'title_comp','Review Compound':'review_comp'}, inplace=True)\n",
    "apple_review2.drop_duplicates(['review'],inplace = True)\n",
    "apple_review2 = apple_review2[(apple_review2['title_comp'] != 0) | (apple_review2['review_comp'] != 0)]\n",
    "\n",
    "# Calculate the word length\n",
    "apple_review2['title length'] = apple_review2['title'].str.split()\n",
    "apple_review2['title length'] = apple_review2['title length'].apply(len)\n",
    "\n",
    "apple_review2['review length'] = apple_review2['review'].str.split()\n",
    "apple_review2['review length'] = apple_review2['review length'].apply(len)\n",
    "\n",
    "apple_review2.head(2)"
   ]
  },
  {
   "cell_type": "markdown",
   "metadata": {
    "slideshow": {
     "slide_type": "slide"
    }
   },
   "source": [
    "### Google Play Data\n",
    "We first download apple dataset from a [kaggles dataset](https://www.kaggle.com/lava18/google-play-store-apps). However, this dataset only has a small fraction overlap with our Apple dataset, so we scrape more App information using [`play-scraper`](https://pypi.org/project/play-scraper/) based on the name of Apple. "
   ]
  },
  {
   "cell_type": "markdown",
   "metadata": {},
   "source": [
    "#### Google Play Data Scrapping"
   ]
  },
  {
   "cell_type": "code",
   "execution_count": null,
   "metadata": {},
   "outputs": [],
   "source": [
    "#1.2 Google Play Data\n",
    "#1.2.1 Google Play Data Scrapping\n",
    "\n",
    "#creating empty lists to store data\n",
    "Name = []\n",
    "Appid = []\n",
    "Rating =[]\n",
    "sc_num = []\n",
    "Price = []\n",
    "Reviews = []\n",
    "Description = []\n",
    "Category = []\n",
    "Version = []\n",
    "Size = []\n",
    "Update_time = []\n",
    "Installs = []\n",
    "Content_rating = []\n",
    "Req_ver = []\n",
    "Edit_choice = []\n",
    "IAP = []\n",
    "IAP_range = []\n",
    "Rate_hist = []\n",
    "developer_address=[]\n",
    "iosname = []"
   ]
  },
  {
   "cell_type": "code",
   "execution_count": null,
   "metadata": {},
   "outputs": [],
   "source": [
    "#scrape App information from google play store based on Apple dataset\n",
    "def android_app(name):\n",
    "    '''\n",
    "    Scrape App information from google play store\n",
    "    -----\n",
    "    Argument:\n",
    "        name: input name in the search engine \n",
    "    '''\n",
    "    search = play_scraper.search(name)\n",
    "    try:\n",
    "        app = play_scraper.details(search[0]['app_id'])\n",
    "        Name.append(app['title'])\n",
    "        Appid.append(app['app_id'])\n",
    "        Rating.append(app['score'])\n",
    "        sc_num.append(len(app['screenshots']))\n",
    "        Price.append(app['price'])\n",
    "        Reviews.append(app['reviews'])\n",
    "        Description.append(app['description'])\n",
    "        Category.append(app['category'])\n",
    "        Version.append(app['current_version'])\n",
    "        Size.append(app['size'])\n",
    "        Update_time.append(app['updated'])\n",
    "        Installs.append(app['installs'])\n",
    "        Content_rating.append(app['content_rating'])\n",
    "        Req_ver.append(app['required_android_version'])\n",
    "        Edit_choice.append(app['editors_choice'])\n",
    "        IAP.append(app['iap'])\n",
    "        IAP_range.append(app['iap_range'])\n",
    "        Rate_hist.append(app['histogram'])\n",
    "        developer_address.append(app['developer_address'])\n",
    "        iosname.append(name)\n",
    "    except:\n",
    "        return None"
   ]
  },
  {
   "cell_type": "code",
   "execution_count": null,
   "metadata": {},
   "outputs": [],
   "source": [
    "#data scraping\n",
    "start_time = time.time()\n",
    "for names in data_apple.Name:\n",
    "    android_app(names)\n",
    "    time.sleep(0.1)\n",
    "print(time.time() -start_time)"
   ]
  },
  {
   "cell_type": "code",
   "execution_count": null,
   "metadata": {},
   "outputs": [],
   "source": [
    "#store data into dataframe\n",
    "cols_a= ['Name','Appid','Rating','sc_num','Price','Reviews','Description'\\\n",
    "        ,'Category','Version','Size','Update_time','Installs'\\\n",
    "        ,'Content_rating','Req_ver','Edit_choice','IAP','IAP_range'\\\n",
    "        ,'Rate_hist','developer_address','iosname']\n",
    "\n",
    "df_a = pd.DataFrame(list(zip(Name,Appid,Rating,sc_num,Price,Reviews,Description\\\n",
    "        ,Category,Version,Size,Update_time,Installs\\\n",
    "        ,Content_rating,Req_ver,Edit_choice,IAP,IAP_range\\\n",
    "        ,Rate_hist,developer_address,iosname)), columns = cols_a)\n",
    "#converting dataframe into csv\n",
    "#df_a.to_csv('../data/new_android.csv',encoding='utf_8_sig')"
   ]
  },
  {
   "cell_type": "markdown",
   "metadata": {},
   "source": [
    "- data_android2: data scrapped based on the name of the data_apple dataset"
   ]
  },
  {
   "cell_type": "code",
   "execution_count": 5,
   "metadata": {},
   "outputs": [
    {
     "data": {
      "text/html": [
       "<div>\n",
       "<style scoped>\n",
       "    .dataframe tbody tr th:only-of-type {\n",
       "        vertical-align: middle;\n",
       "    }\n",
       "\n",
       "    .dataframe tbody tr th {\n",
       "        vertical-align: top;\n",
       "    }\n",
       "\n",
       "    .dataframe thead th {\n",
       "        text-align: right;\n",
       "    }\n",
       "</style>\n",
       "<table border=\"1\" class=\"dataframe\">\n",
       "  <thead>\n",
       "    <tr style=\"text-align: right;\">\n",
       "      <th></th>\n",
       "      <th>Unnamed: 0</th>\n",
       "      <th>Name</th>\n",
       "      <th>iosname</th>\n",
       "      <th>name_similarity</th>\n",
       "      <th>Appid</th>\n",
       "      <th>Rating</th>\n",
       "      <th>sc_num</th>\n",
       "      <th>Price</th>\n",
       "      <th>Reviews</th>\n",
       "      <th>Description</th>\n",
       "      <th>...</th>\n",
       "      <th>Size</th>\n",
       "      <th>Update_time</th>\n",
       "      <th>Installs</th>\n",
       "      <th>Content_rating</th>\n",
       "      <th>Req_ver</th>\n",
       "      <th>Edit_choice</th>\n",
       "      <th>IAP</th>\n",
       "      <th>IAP_range</th>\n",
       "      <th>Rate_hist</th>\n",
       "      <th>developer_address</th>\n",
       "    </tr>\n",
       "  </thead>\n",
       "  <tbody>\n",
       "    <tr>\n",
       "      <td>0</td>\n",
       "      <td>0</td>\n",
       "      <td>PAC-MAN Championship Edition DX</td>\n",
       "      <td>PAC-MAN Premium</td>\n",
       "      <td>0.434783</td>\n",
       "      <td>com.bandainamcoent.pacmancedx</td>\n",
       "      <td>4.5</td>\n",
       "      <td>6</td>\n",
       "      <td>$1.99</td>\n",
       "      <td>1816</td>\n",
       "      <td>New Price – For a Limited Time Only!\\nGet read...</td>\n",
       "      <td>...</td>\n",
       "      <td>36M</td>\n",
       "      <td>April 23, 2018</td>\n",
       "      <td>10,000+</td>\n",
       "      <td>['Everyone']</td>\n",
       "      <td>4.0.3 and up</td>\n",
       "      <td>False</td>\n",
       "      <td>False</td>\n",
       "      <td>NaN</td>\n",
       "      <td>{5: 1347, 4: 251, 3: 83, 2: 36, 1: 99}</td>\n",
       "      <td>2051 Mission College Blvd., Santa Clara, CA  9...</td>\n",
       "    </tr>\n",
       "    <tr>\n",
       "      <td>1</td>\n",
       "      <td>1</td>\n",
       "      <td>Evernote</td>\n",
       "      <td>Evernote - stay organized</td>\n",
       "      <td>0.484848</td>\n",
       "      <td>com.evernote</td>\n",
       "      <td>4.5</td>\n",
       "      <td>21</td>\n",
       "      <td>0</td>\n",
       "      <td>1497796</td>\n",
       "      <td>Evernote helps you focus on what matters most ...</td>\n",
       "      <td>...</td>\n",
       "      <td>Varies with device</td>\n",
       "      <td>December 1, 2018</td>\n",
       "      <td>100,000,000+</td>\n",
       "      <td>['Everyone']</td>\n",
       "      <td>5.0 and up</td>\n",
       "      <td>True</td>\n",
       "      <td>True</td>\n",
       "      <td>('$1.00', '$99.99')</td>\n",
       "      <td>{5: 1071594, 4: 295588, 3: 58942, 2: 21822, 1:...</td>\n",
       "      <td>305 Walnut Street\\nRedwood City, CA 94063</td>\n",
       "    </tr>\n",
       "  </tbody>\n",
       "</table>\n",
       "<p>2 rows × 22 columns</p>\n",
       "</div>"
      ],
      "text/plain": [
       "   Unnamed: 0                             Name                    iosname  \\\n",
       "0           0  PAC-MAN Championship Edition DX            PAC-MAN Premium   \n",
       "1           1                         Evernote  Evernote - stay organized   \n",
       "\n",
       "   name_similarity                          Appid  Rating  sc_num  Price  \\\n",
       "0         0.434783  com.bandainamcoent.pacmancedx     4.5       6  $1.99   \n",
       "1         0.484848                   com.evernote     4.5      21      0   \n",
       "\n",
       "   Reviews                                        Description  ...  \\\n",
       "0     1816  New Price – For a Limited Time Only!\\nGet read...  ...   \n",
       "1  1497796  Evernote helps you focus on what matters most ...  ...   \n",
       "\n",
       "                 Size       Update_time      Installs Content_rating  \\\n",
       "0                 36M    April 23, 2018       10,000+   ['Everyone']   \n",
       "1  Varies with device  December 1, 2018  100,000,000+   ['Everyone']   \n",
       "\n",
       "        Req_ver Edit_choice    IAP            IAP_range  \\\n",
       "0  4.0.3 and up       False  False                  NaN   \n",
       "1    5.0 and up        True   True  ('$1.00', '$99.99')   \n",
       "\n",
       "                                           Rate_hist  \\\n",
       "0             {5: 1347, 4: 251, 3: 83, 2: 36, 1: 99}   \n",
       "1  {5: 1071594, 4: 295588, 3: 58942, 2: 21822, 1:...   \n",
       "\n",
       "                                   developer_address  \n",
       "0  2051 Mission College Blvd., Santa Clara, CA  9...  \n",
       "1          305 Walnut Street\\nRedwood City, CA 94063  \n",
       "\n",
       "[2 rows x 22 columns]"
      ]
     },
     "execution_count": 5,
     "metadata": {},
     "output_type": "execute_result"
    }
   ],
   "source": [
    "#reload the dataset: scraped data based on names in Apple datasets\n",
    "data_android2 = pd.read_csv('../data/new_android.csv')\n",
    "data_android2.head(2)"
   ]
  },
  {
   "cell_type": "code",
   "execution_count": 6,
   "metadata": {},
   "outputs": [],
   "source": [
    "#function for data cleaning\n",
    "def covert_size(size):\n",
    "    '''\n",
    "    convert the android size to MB\n",
    "    -----\n",
    "    Argument:\n",
    "        size: original string size\n",
    "    Output:\n",
    "        size in MB\n",
    "    '''\n",
    "    if size == 'Varies with device':\n",
    "        return np.nan\n",
    "    elif size.endswith('M'):\n",
    "        size = size[:-1]\n",
    "        return float(size)\n",
    "    elif size.endswith('K'):\n",
    "        size = size[:-1]\n",
    "        return float(size)/0.001\n",
    "    \n",
    "def compare(str1,str2):\n",
    "    '''\n",
    "    compare the name of Apple and Android, check whether thier first words are the same \n",
    "    -----\n",
    "    Argument:\n",
    "        str1: input compared string\n",
    "        str2: input compared string\n",
    "    Output:\n",
    "        True: thier first words are the same\n",
    "        False: thier first words are not the same \n",
    "    '''\n",
    "    a = re.split(r\"[\\W']+\",str1.lower())\n",
    "    b = re.split(r\"[\\W']+\",str2.lower())\n",
    "    if a[0]==b[0]:\n",
    "        return True\n",
    "    else:\n",
    "        return False"
   ]
  },
  {
   "cell_type": "code",
   "execution_count": 7,
   "metadata": {},
   "outputs": [],
   "source": [
    "#data_android1\n",
    "data_android1 = pd.read_csv('../data/googleplaystore.csv')\n",
    "#remove row with error \n",
    "data_android1.drop(index = 10472,inplace = True)\n",
    "#assign column names\n",
    "data_android1.columns =['Name', 'Category', 'Rating', 'Reviews', 'Size', 'Installs', 'Type',\\\n",
    "       'Price', 'Content_rating', 'Genres', 'Update_time', 'Version',\\\n",
    "       'Req_ver']\n",
    "#change price to numeric\n",
    "data_android1['Price'] = data_android1['Price'].apply(lambda x: float(x.strip('$')))\n",
    "#clean size\n",
    "data_android1['Size'] = data_android1['Size'].apply(covert_size)"
   ]
  },
  {
   "cell_type": "markdown",
   "metadata": {},
   "source": [
    "- data_android2: Scraped data based on names in Apple datasets"
   ]
  },
  {
   "cell_type": "code",
   "execution_count": 8,
   "metadata": {},
   "outputs": [
    {
     "data": {
      "text/plain": [
       "(4950, 22)"
      ]
     },
     "execution_count": 8,
     "metadata": {},
     "output_type": "execute_result"
    }
   ],
   "source": [
    "#data_android2\n",
    "data_android2 = pd.read_csv('../data/new_android.csv')\n",
    "data_android2 = data_android2.drop('Unnamed: 0', 1)  \n",
    "data_android2['name_similarity'] = [compare(data_android2.Name[i],data_android2.iosname[i])\\\n",
    "                                    for i in range(len(data_android2))]\n",
    "#clean category and match to data_android1\n",
    "data_android2.Category = data_android2.Category.apply(lambda x: re.split(r\"[\\W']+\",x)[1])\n",
    "game_cat = data_android2[data_android2.Category.str.contains('GAME')==True].Category.unique()\n",
    "data_android2.Category.replace(game_cat,'GAME',inplace=True)\n",
    "#match content rating to data_android1\n",
    "data_android2.Content_rating=data_android2.Content_rating.apply(lambda x: re.split(r\"[\\W']+\",x)[1]\\\n",
    "                                                                +' '+re.split(r\"[\\W']+\",x)[2]+'+' \\\n",
    "                                   if (re.split(r\"[\\W']+\",x)[2]=='10' or re.split(r\"[\\W']+\",x)[2]=='17')\\\n",
    "                                                                else re.split(r\"[\\W']+\",x)[1])\n",
    "#clean prices data\n",
    "data_android2['IAP'] = data_android2['IAP'].apply(lambda x: 'Paid' if x == True else 'Free')\n",
    "data_android2['Price'] = data_android2['Price'].apply(lambda x: float(x.strip('$')))\n",
    "data_android2['Type'] = data_android2['Price'].apply(lambda x: 'Paid' if x > 0 else 'Free')\n",
    "#clean size\n",
    "data_android2['Size'] = data_android2['Size'].apply(covert_size)\n",
    "data_android2.shape"
   ]
  },
  {
   "cell_type": "markdown",
   "metadata": {},
   "source": [
    "- data_android: Combine both Google play data sources for Android Market analysis"
   ]
  },
  {
   "cell_type": "code",
   "execution_count": 9,
   "metadata": {},
   "outputs": [
    {
     "data": {
      "text/html": [
       "<div>\n",
       "<style scoped>\n",
       "    .dataframe tbody tr th:only-of-type {\n",
       "        vertical-align: middle;\n",
       "    }\n",
       "\n",
       "    .dataframe tbody tr th {\n",
       "        vertical-align: top;\n",
       "    }\n",
       "\n",
       "    .dataframe thead th {\n",
       "        text-align: right;\n",
       "    }\n",
       "</style>\n",
       "<table border=\"1\" class=\"dataframe\">\n",
       "  <thead>\n",
       "    <tr style=\"text-align: right;\">\n",
       "      <th></th>\n",
       "      <th>Name</th>\n",
       "      <th>Category</th>\n",
       "      <th>Rating</th>\n",
       "      <th>Reviews</th>\n",
       "      <th>Size</th>\n",
       "      <th>Installs</th>\n",
       "      <th>Type</th>\n",
       "      <th>Price</th>\n",
       "      <th>Content_Rating</th>\n",
       "      <th>Update_time</th>\n",
       "      <th>Version</th>\n",
       "      <th>Req_ver</th>\n",
       "    </tr>\n",
       "  </thead>\n",
       "  <tbody>\n",
       "    <tr>\n",
       "      <td>0</td>\n",
       "      <td>Photo Editor &amp; Candy Camera &amp; Grid &amp; ScrapBook</td>\n",
       "      <td>Art And Design</td>\n",
       "      <td>4.1</td>\n",
       "      <td>159.0</td>\n",
       "      <td>19.0</td>\n",
       "      <td>10000.0</td>\n",
       "      <td>Free</td>\n",
       "      <td>0.0</td>\n",
       "      <td>Everyone</td>\n",
       "      <td>2018-01-07</td>\n",
       "      <td>1.0.0</td>\n",
       "      <td>4.0.3 and up</td>\n",
       "    </tr>\n",
       "    <tr>\n",
       "      <td>1</td>\n",
       "      <td>Coloring book moana</td>\n",
       "      <td>Art And Design</td>\n",
       "      <td>3.9</td>\n",
       "      <td>967.0</td>\n",
       "      <td>14.0</td>\n",
       "      <td>500000.0</td>\n",
       "      <td>Free</td>\n",
       "      <td>0.0</td>\n",
       "      <td>Everyone</td>\n",
       "      <td>2018-01-15</td>\n",
       "      <td>2.0.0</td>\n",
       "      <td>4.0.3 and up</td>\n",
       "    </tr>\n",
       "  </tbody>\n",
       "</table>\n",
       "</div>"
      ],
      "text/plain": [
       "                                             Name        Category  Rating  \\\n",
       "0  Photo Editor & Candy Camera & Grid & ScrapBook  Art And Design     4.1   \n",
       "1                             Coloring book moana  Art And Design     3.9   \n",
       "\n",
       "   Reviews  Size  Installs  Type  Price Content_Rating Update_time Version  \\\n",
       "0    159.0  19.0   10000.0  Free    0.0       Everyone  2018-01-07   1.0.0   \n",
       "1    967.0  14.0  500000.0  Free    0.0       Everyone  2018-01-15   2.0.0   \n",
       "\n",
       "        Req_ver  \n",
       "0  4.0.3 and up  \n",
       "1  4.0.3 and up  "
      ]
     },
     "execution_count": 9,
     "metadata": {},
     "output_type": "execute_result"
    }
   ],
   "source": [
    "#combine both google play data sources\n",
    "data_android = pd.concat([data_android1, data_android2], join='inner')\n",
    "data_android.drop_duplicates(['Name'],inplace = True)\n",
    "\n",
    "data_android['Type'] = data_android['Price'].apply(lambda x: 'Paid' if x > 0 else 'Free')\n",
    "#claen variable formats\n",
    "data_android['Installs'] = data_android['Installs'].apply(lambda x: float(x.replace(',','').strip('+')))\n",
    "data_android['Reviews'] = data_android.Reviews.astype('float')\n",
    "data_android['Update_time'] = pd.to_datetime(data_android['Update_time'], format='%B %d, %Y')\n",
    "data_android['Category'] = data_android['Category'].str.replace('_',' ').str.title()\n",
    "#match content rating\n",
    "data_android['Content_rating'] = data_android['Content_rating'].replace('Adults only 18+','Mature 17+')\n",
    "data_android['Content_rating'] = data_android['Content_rating'].apply(lambda x: np.nan if x =='Unrated' else x)\n",
    "data_android.rename(columns={'Content_rating': 'Content_Rating'}, inplace=True)\n",
    "data_android.head(2)"
   ]
  },
  {
   "cell_type": "markdown",
   "metadata": {},
   "source": [
    "### Combination of Markets\n",
    "\n",
    "#### Data for Market Comparison\n",
    "Merge the dataset based on the exactly same name.\n",
    "\n",
    "- comp: combination of apple/android datasets by same App name"
   ]
  },
  {
   "cell_type": "code",
   "execution_count": 10,
   "metadata": {},
   "outputs": [
    {
     "data": {
      "text/plain": [
       "(1547, 17)"
      ]
     },
     "execution_count": 10,
     "metadata": {},
     "output_type": "execute_result"
    }
   ],
   "source": [
    "# extract some specific variable from data_android2 \n",
    "comp = data_android2[['Name','iosname','Price','Size',\n",
    "                            'Version','Rating','Type','Description','developer_address']]\n",
    "# rename some variable \n",
    "comp = comp.rename({'Price':'Andro_price',\n",
    "                                'Size':'Andro_size',\n",
    "                                'Version':'Andro_version',\n",
    "                                'Rating':'Andro_rating',\n",
    "                                'Type':'Andro_type',\n",
    "                                'Description':'Andro_description',\n",
    "                                'Name': 'Andro_name',\n",
    "                                'iosname':'Name'\n",
    "                                }, axis='columns')\n",
    "# combine it with those variables in data_apple\n",
    "comp = pd.merge(comp, data_apple[['Name','Price','Category','Content_Rating',\n",
    "                                              'Size','Version','Rating','Type','app_desc']], on=['Name'])\n",
    "# rename new variables \n",
    "comp = comp.rename({'Price':'ios_price',\n",
    "                                'Size':'ios_size',\n",
    "                                'Version':'ios_version',\n",
    "                                'Rating':'ios_rating',\n",
    "                                'Type':'ios_type',\n",
    "                                'app_desc':'Ios_description',\n",
    "                                'Name':'ios_name'\n",
    "                                }, axis='columns')\n",
    "# change the order of the column \n",
    "comp = comp[['developer_address','Andro_name','ios_name','Category','Content_Rating',\\\n",
    "                         'Andro_price','ios_price','Andro_size','ios_size',\\\n",
    "                         'Andro_version','ios_version','Andro_rating','ios_rating',\\\n",
    "                         'Andro_type','ios_type','Andro_description','Ios_description']]\n",
    "# choose those observations with the same name \n",
    "comp = comp[comp['Andro_name'] == comp['ios_name']]\n",
    "\n",
    "comp.shape"
   ]
  },
  {
   "cell_type": "code",
   "execution_count": 11,
   "metadata": {},
   "outputs": [
    {
     "data": {
      "text/plain": [
       "(1540, 18)"
      ]
     },
     "execution_count": 11,
     "metadata": {},
     "output_type": "execute_result"
    }
   ],
   "source": [
    "# round the rating of android based on the 0.5 \n",
    "def round_number(x, base):\n",
    "    return base * round(float(x)/base)\n",
    "\n",
    "comp['Price_Consistency'] = comp['Andro_price'] == comp['ios_price']\n",
    "comp = comp.dropna(subset=['Andro_rating'])\n",
    "comp['Andro_rating'] = comp['Andro_rating'].apply(lambda x: round_number(x, base=.5))\n",
    "comp = comp.reset_index(drop = True)\n",
    "comp.shape"
   ]
  },
  {
   "cell_type": "code",
   "execution_count": 14,
   "metadata": {},
   "outputs": [],
   "source": [
    "data_android.to_csv('../data/clean_data-android.csv',index=None)"
   ]
  },
  {
   "cell_type": "code",
   "execution_count": 16,
   "metadata": {},
   "outputs": [],
   "source": [
    "data_apple.to_csv('../data/clean_data-apple.csv',index=None)"
   ]
  },
  {
   "cell_type": "code",
   "execution_count": 20,
   "metadata": {},
   "outputs": [],
   "source": [
    "apple_review2.to_csv('../data/clean_apple-review2.csv',index=None)"
   ]
  },
  {
   "cell_type": "code",
   "execution_count": 21,
   "metadata": {},
   "outputs": [],
   "source": [
    "comp.to_csv('../data/clean_comp-markets.csv',index = None)"
   ]
  },
  {
   "cell_type": "code",
   "execution_count": 23,
   "metadata": {},
   "outputs": [],
   "source": [
    "data_android2.to_csv('../data/clean_data-android2.csv',index=None)"
   ]
  },
  {
   "cell_type": "code",
   "execution_count": null,
   "metadata": {},
   "outputs": [],
   "source": []
  }
 ],
 "metadata": {
  "kernelspec": {
   "display_name": "Python 3",
   "language": "python",
   "name": "python3"
  },
  "language_info": {
   "codemirror_mode": {
    "name": "ipython",
    "version": 3
   },
   "file_extension": ".py",
   "mimetype": "text/x-python",
   "name": "python",
   "nbconvert_exporter": "python",
   "pygments_lexer": "ipython3",
   "version": "3.6.9"
  }
 },
 "nbformat": 4,
 "nbformat_minor": 4
}
